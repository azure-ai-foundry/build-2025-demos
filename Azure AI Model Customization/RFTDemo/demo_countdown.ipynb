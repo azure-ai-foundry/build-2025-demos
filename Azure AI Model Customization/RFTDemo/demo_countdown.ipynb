{
 "cells": [
  {
   "cell_type": "markdown",
   "id": "d9f81ad5",
   "metadata": {},
   "source": [
    "# Load and View the Dataset"
   ]
  },
  {
   "cell_type": "code",
   "execution_count": 1,
   "id": "873471d8",
   "metadata": {},
   "outputs": [
    {
     "name": "stderr",
     "output_type": "stream",
     "text": [
      "c:\\Users\\omkarm\\AppData\\Local\\anaconda3\\envs\\openai\\lib\\site-packages\\tqdm\\auto.py:21: TqdmWarning: IProgress not found. Please update jupyter and ipywidgets. See https://ipywidgets.readthedocs.io/en/stable/user_install.html\n",
      "  from .autonotebook import tqdm as notebook_tqdm\n"
     ]
    },
    {
     "name": "stdout",
     "output_type": "stream",
     "text": [
      "✅ Saved 500 records to data/countdown/countdown_eval_set.jsonl\n",
      "✅ Saved 1000 records to data/countdown/countdown_train_set.jsonl\n",
      "✅ Converted data/countdown/countdown_eval_set.jsonl to data/countdown/countdown_eval_set_format.jsonl\n",
      "✅ Converted 10 records to RFT format and saved to data/countdown/countdown_train_set_format.jsonl\n"
     ]
    }
   ],
   "source": [
    "from scripts.dataset_utils import convert_to_rft_countdown_training_dataset\n",
    "from datasets import load_dataset\n",
    "from dotenv import load_dotenv\n",
    "import json\n",
    "\n",
    "# Load environment variables from the .env file\n",
    "load_dotenv(override=True)\n",
    "\n",
    "def convert_to_eval_format_separate_fields(input_file_path, output_file_path):\n",
    "    \"\"\"\n",
    "    Convert a JSONL file to a specific evaluation format by adding an enclosing item field.\n",
    "\n",
    "    Args:\n",
    "        input_file_path: The path to the input JSONL file.\n",
    "        output_file_path: The path to the output JSONL file.\n",
    "    \"\"\"\n",
    "    with open(input_file_path, \"r\", encoding=\"utf-8\") as f:\n",
    "        lines = f.readlines()\n",
    "\n",
    "    with open(output_file_path, \"w\", encoding=\"utf-8\") as f:\n",
    "        for line in lines:\n",
    "            example = json.loads(line)\n",
    "            # Add the enclosing item field\n",
    "            formatted_example = {\"item\": example}\n",
    "            f.write(json.dumps(formatted_example) + \"\\n\")\n",
    "    print(f\"✅ Converted {input_file_path} to {output_file_path}\")\n",
    "\n",
    "\n",
    "def save_dataset_as_jsonl(dataset, file_path, max_records=None):\n",
    "    \"\"\"\n",
    "    Save a dataset to a JSONL file with all values converted to strings.\n",
    "\n",
    "    Args:\n",
    "        dataset: The dataset to save.\n",
    "        file_path: The path to the output JSONL file.\n",
    "        max_records: The maximum number of records to save (optional).\n",
    "    \"\"\"\n",
    "    if max_records:\n",
    "        dataset = dataset.shuffle(seed=123).select(range(max_records))\n",
    "    \n",
    "    with open(file_path, \"w\", encoding=\"utf-8\") as f:\n",
    "        for example in dataset:\n",
    "            # Convert all values in the example to strings\n",
    "            stringified_example = {key: str(value) for key, value in example.items()}\n",
    "            f.write(json.dumps(stringified_example) + \"\\n\")\n",
    "    print(f\"✅ Saved {len(dataset)} records to {file_path}\")\n",
    "\n",
    "# Load the SHP dataset\n",
    "dataset = load_dataset(\"predibase/countdown\", split=\"train\")\n",
    "eval_dataset = load_dataset(\"predibase/countdown\", split=\"test\")\n",
    "\n",
    "train_file_path = \"data/countdown/countdown_train_set.jsonl\"\n",
    "eval_file_path = \"data/countdown/countdown_eval_set.jsonl\"\n",
    "\n",
    "# Save the datasets\n",
    "save_dataset_as_jsonl(eval_dataset, eval_file_path)\n",
    "save_dataset_as_jsonl(dataset,train_file_path, max_records=1000)\n",
    "\n",
    "eval_file_path = \"data/countdown/countdown_eval_set.jsonl\"\n",
    "eval_format_file_path = \"data/countdown/countdown_eval_set_format.jsonl\"\n",
    "rft_format_file_path = \"data/countdown/countdown_train_set_format.jsonl\"\n",
    "\n",
    "# convert to eval format i.e. add a enclosing item field to every example in jsonl\n",
    "convert_to_eval_format_separate_fields(eval_file_path, eval_format_file_path)\n",
    "\n",
    "convert_to_rft_countdown_training_dataset(input_path=train_file_path, output_path=rft_format_file_path, max_records=10)\n",
    "\n",
    "\n"
   ]
  },
  {
   "cell_type": "markdown",
   "id": "2d4ae853",
   "metadata": {},
   "source": [
    "# Evaluate Base Model - o3"
   ]
  },
  {
   "cell_type": "code",
   "execution_count": 2,
   "id": "fbf115d7",
   "metadata": {},
   "outputs": [
    {
     "name": "stdout",
     "output_type": "stream",
     "text": [
      "Using Azure API for file upload...\n"
     ]
    },
    {
     "name": "stdout",
     "output_type": "stream",
     "text": [
      "File uploaded successfully to Azure.\n",
      "Eval file ID: file-d648930a261e493eaa86818b61677de8\n"
     ]
    }
   ],
   "source": [
    "from scripts.io_utils import upload_file\n",
    "\n",
    "\n",
    "\n",
    "# eval_file_id = \"file-2d7554dc2266432ea9d8a8483ead1117\"\n",
    "eval_file_id = await upload_file(file_name=\"countdown_eval_set_format.jsonl\", file_path=eval_format_file_path, purpose=\"evals\")\n",
    "print(f\"Eval file ID: {eval_file_id}\")\n"
   ]
  },
  {
   "cell_type": "code",
   "execution_count": 4,
   "id": "c3571eb0",
   "metadata": {},
   "outputs": [
    {
     "name": "stdout",
     "output_type": "stream",
     "text": [
      "Evaluation created successfully with ID: eval_6823f7877bd88190bc768ca70a878596\n",
      "Evaluation created with ID: eval_6823f7877bd88190bc768ca70a878596\n"
     ]
    }
   ],
   "source": [
    "# Create a new evaluation\n",
    "\n",
    "from scripts.eval_utils import create_eval\n",
    "\n",
    "# Call the create_eval function\n",
    "eval_id = await create_eval(\"puzzle_base_eval_202-grader-4_1\", grader_model=\"gpt-4.1\", pass_threshold=4)\n",
    "\n",
    "# eval_id = \"eval_681fca42e0148190af03fecfd662e5d6\"\n",
    "\n",
    "print(f\"Evaluation created with ID: {eval_id}\")\n"
   ]
  },
  {
   "cell_type": "code",
   "execution_count": 5,
   "id": "c870d4b6",
   "metadata": {},
   "outputs": [
    {
     "name": "stdout",
     "output_type": "stream",
     "text": [
      "Create Eval Run Status for ft-o3-mini-puzzle-300: 201\n",
      "Evaluation ID: eval_6823f7877bd88190bc768ca70a878596\n"
     ]
    }
   ],
   "source": [
    "# Import the create_eval_run function from the eval_utils script\n",
    "from scripts.eval_utils import create_eval_run\n",
    "\n",
    "\n",
    "# Set your Model Deployment Names for the run\n",
    "RUN_MODEL_DEPLOYMENTS = [\n",
    "    # \"o3\",\n",
    "    # \"o4-mini\",\n",
    "    # \"o3-mini\",\n",
    "    # \"gpt-4o\",\n",
    "    # \"gpt-4o-mini\",\n",
    "    # \"gpt-4.1\",\n",
    "    # \"gpt-4.1-mini\",\n",
    "    # \"ft-o3-mini-puzzle\",\n",
    "    \"ft-o3-mini-puzzle-300\",\n",
    "    # \"o3-mini-2025-01-31-puzzles-train-10-val-10-rft\"\n",
    "\n",
    "]\n",
    "\n",
    "# eval_file_id = \"file-97ccc7b1f9024ba7b061130299152160\"\n",
    "# eval_id = \"eval_682318c1171c819093f6ad19501a4bff\"\n",
    "\n",
    "# Create Eval Runs for each deployment\n",
    "for deployment in RUN_MODEL_DEPLOYMENTS:\n",
    "    await create_eval_run(eval_id, eval_file_id, deployment)\n",
    "\n",
    "# Print the evaluation ID\n",
    "print(f\"Evaluation ID: {eval_id}\")"
   ]
  },
  {
   "cell_type": "code",
   "execution_count": 1,
   "id": "dbff6170",
   "metadata": {},
   "outputs": [
    {
     "name": "stdout",
     "output_type": "stream",
     "text": [
      "Get Evaluation Runs: eval_6824042ebe388190951374518e6380c4\n",
      "\n",
      "==================================================\n",
      "Combined Evaluation Summary\n",
      "==================================================\n",
      "                                  Run ID     Run Name        Model    Status Pass Percentage (%) Error Percentage (%)                         Evaluation ID Evaluation Name\n",
      "evalrun_6824042ff4d48190a948ea5a2c8ab48b           o3           o3 completed           90.380762                  0.2 eval_6824042ebe388190951374518e6380c4  countdown eval\n",
      "evalrun_682404d46c2881908266397d3c64fccb      o4-mini      o4-mini completed           89.200000                  0.0 eval_6824042ebe388190951374518e6380c4  countdown eval\n",
      "evalrun_682404bb15108190a0ffa8030798f095      gpt-4.1      gpt-4.1 completed           31.000000                  0.0 eval_6824042ebe388190951374518e6380c4  countdown eval\n",
      "evalrun_6824050aa4b08190854b09b95910a194 gpt-4.1-mini gpt-4.1-mini completed           25.400000                  0.0 eval_6824042ebe388190951374518e6380c4  countdown eval\n",
      "==================================================\n"
     ]
    },
    {
     "data": {
      "image/png": "[encoded data removed]",
      "text/plain": [
       "<Figure size 1200x300 with 1 Axes>"
      ]
     },
     "metadata": {},
     "output_type": "display_data"
    }
   ],
   "source": [
    "# Import the display_evaluation_summary function from the eval_utils script\n",
    "from scripts.eval_utils import display_evaluation_summary, display_evaluation_details\n",
    "\n",
    "# eval_id = \"eval_68230245f9dc81908eedaf94a0c6b753\" # azure\n",
    "eval_id = \"eval_6824042ebe388190951374518e6380c4\" # openai\n",
    "# Display the evaluation summary\n",
    "await display_evaluation_summary([eval_id])"
   ]
  },
  {
   "cell_type": "code",
   "execution_count": 3,
   "id": "02885d0c",
   "metadata": {},
   "outputs": [
    {
     "name": "stdout",
     "output_type": "stream",
     "text": [
      "\n",
      "==================================================\n",
      "Evaluation Details for Run ID: evalrun_682404d46c2881908266397d3c64fccb\n",
      "==================================================\n",
      "\n",
      "Sample 1:\n",
      "--------------------------------------------------\n",
      "Reference Final Answer: N/A\n",
      "Output Final Answer: N/A\n",
      "Score: 4.0\n",
      "Status: fail\n",
      "--------------------------------------------------\n",
      "\n",
      "Sample 2:\n",
      "--------------------------------------------------\n",
      "Reference Final Answer: N/A\n",
      "Output Final Answer: N/A\n",
      "Score: 4.0\n",
      "Status: fail\n",
      "--------------------------------------------------\n",
      "\n",
      "Sample 3:\n",
      "--------------------------------------------------\n",
      "Reference Final Answer: N/A\n",
      "Output Final Answer: N/A\n",
      "Score: 4.0\n",
      "Status: fail\n",
      "--------------------------------------------------\n",
      "\n",
      "Sample 4:\n",
      "--------------------------------------------------\n",
      "Reference Final Answer: N/A\n",
      "Output Final Answer: N/A\n",
      "Score: 4.0\n",
      "Status: fail\n",
      "--------------------------------------------------\n",
      "\n",
      "Sample 5:\n",
      "--------------------------------------------------\n",
      "Reference Final Answer: N/A\n",
      "Output Final Answer: N/A\n",
      "Score: 4.0\n",
      "Status: fail\n",
      "--------------------------------------------------\n",
      "\n",
      "Sample 6:\n",
      "--------------------------------------------------\n",
      "Reference Final Answer: N/A\n",
      "Output Final Answer: N/A\n",
      "Score: 2.0\n",
      "Status: fail\n",
      "--------------------------------------------------\n",
      "\n",
      "Sample 7:\n",
      "--------------------------------------------------\n",
      "Reference Final Answer: N/A\n",
      "Output Final Answer: N/A\n",
      "Score: 4.0\n",
      "Status: fail\n",
      "--------------------------------------------------\n",
      "\n",
      "Sample 8:\n",
      "--------------------------------------------------\n",
      "Reference Final Answer: N/A\n",
      "Output Final Answer: N/A\n",
      "Score: 4.0\n",
      "Status: fail\n",
      "--------------------------------------------------\n",
      "\n",
      "Sample 9:\n",
      "--------------------------------------------------\n",
      "Reference Final Answer: N/A\n",
      "Output Final Answer: N/A\n",
      "Score: 4.0\n",
      "Status: fail\n",
      "--------------------------------------------------\n",
      "\n",
      "Sample 10:\n",
      "--------------------------------------------------\n",
      "Reference Final Answer: N/A\n",
      "Output Final Answer: N/A\n",
      "Score: 4.0\n",
      "Status: fail\n",
      "--------------------------------------------------\n",
      "\n",
      "Sample 11:\n",
      "--------------------------------------------------\n",
      "Reference Final Answer: N/A\n",
      "Output Final Answer: N/A\n",
      "Score: 3.0\n",
      "Status: fail\n",
      "--------------------------------------------------\n",
      "\n",
      "==================================================\n",
      "Displayed 11 records (filtered by status: fail).\n",
      "==================================================\n"
     ]
    }
   ],
   "source": [
    "from scripts.eval_utils import display_evaluation_details\n",
    "\n",
    "eval_id = \"eval_6824042ebe388190951374518e6380c4\"\n",
    "eval_run_id = \"evalrun_682404d46c2881908266397d3c64fccb\"\n",
    "await display_evaluation_details(eval_id=eval_id, eval_run_id=eval_run_id, max_records=100, status_filter=\"fail\")"
   ]
  },
  {
   "cell_type": "code",
   "execution_count": null,
   "id": "27469104",
   "metadata": {},
   "outputs": [],
   "source": []
  },
  {
   "cell_type": "code",
   "execution_count": null,
   "id": "0e4eca25",
   "metadata": {},
   "outputs": [
    {
     "ename": "TypeError",
     "evalue": "convert_rft_to_sft() got an unexpected keyword argument 'status_filter'",
     "output_type": "error",
     "traceback": [
      "\u001b[1;31m---------------------------------------------------------------------------\u001b[0m",
      "\u001b[1;31mTypeError\u001b[0m                                 Traceback (most recent call last)",
      "Cell \u001b[1;32mIn[2], line 6\u001b[0m\n\u001b[0;32m      4\u001b[0m rft_file_path \u001b[38;5;241m=\u001b[39m \u001b[38;5;124m\"\u001b[39m\u001b[38;5;124mdata/Hydrobonds_Original_WoSysPromptInUser/train_900.jsonl\u001b[39m\u001b[38;5;124m\"\u001b[39m\n\u001b[0;32m      5\u001b[0m sft_file_path \u001b[38;5;241m=\u001b[39m \u001b[38;5;124m\"\u001b[39m\u001b[38;5;124mdata/Hydrobonds_Original_WoSysPromptInUser/train_900_sft.jsonl\u001b[39m\u001b[38;5;124m\"\u001b[39m\n\u001b[1;32m----> 6\u001b[0m \u001b[43mconvert_rft_to_sft\u001b[49m\u001b[43m(\u001b[49m\u001b[43mrft_file_path\u001b[49m\u001b[43m,\u001b[49m\u001b[43m \u001b[49m\u001b[43msft_file_path\u001b[49m\u001b[43m,\u001b[49m\u001b[43m \u001b[49m\u001b[43mstatus_filter\u001b[49m\u001b[38;5;241;43m=\u001b[39;49m\u001b[38;5;124;43m\"\u001b[39;49m\u001b[38;5;124;43mfail\u001b[39;49m\u001b[38;5;124;43m\"\u001b[39;49m\u001b[43m)\u001b[49m\n",
      "\u001b[1;31mTypeError\u001b[0m: convert_rft_to_sft() got an unexpected keyword argument 'status_filter'"
     ]
    }
   ],
   "source": [
    "from scripts.dataset_utils import convert_rft_to_sft\n",
    "\n",
    "# Convert the evaluation results to SFT format\n",
    "rft_file_path = \"data/Hydrobonds_Original_WoSysPromptInUser/train_900.jsonl\"\n",
    "sft_file_path = \"data/Hydrobonds_Original_WoSysPromptInUser/train_900_sft.jsonl\"\n",
    "convert_rft_to_sft(rft_file_path, sft_file_path)"
   ]
  },
  {
   "cell_type": "code",
   "execution_count": null,
   "id": "4ade393d",
   "metadata": {},
   "outputs": [],
   "source": []
  }
 ],
 "metadata": {
  "kernelspec": {
   "display_name": "openai",
   "language": "python",
   "name": "python3"
  },
  "language_info": {
   "codemirror_mode": {
    "name": "ipython",
    "version": 3
   },
   "file_extension": ".py",
   "mimetype": "text/x-python",
   "name": "python",
   "nbconvert_exporter": "python",
   "pygments_lexer": "ipython3",
   "version": "3.9.21"
  }
 },
 "nbformat": 4,
 "nbformat_minor": 5
}

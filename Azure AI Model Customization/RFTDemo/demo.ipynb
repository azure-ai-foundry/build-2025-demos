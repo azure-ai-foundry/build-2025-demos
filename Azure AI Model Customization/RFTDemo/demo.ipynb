{
 "cells": [
  {
   "cell_type": "markdown",
   "id": "d9f81ad5",
   "metadata": {},
   "source": [
    "# Load and View the Dataset"
   ]
  },
  {
   "cell_type": "code",
   "execution_count": 1,
   "id": "786e4a65",
   "metadata": {},
   "outputs": [
    {
     "name": "stdout",
     "output_type": "stream",
     "text": [
      "✅ Converted 100 records to data/puzzles/puzzles_eval_final_format_100.jsonl\n"
     ]
    }
   ],
   "source": [
    "from dotenv import load_dotenv\n",
    "import json\n",
    "import pandas as pd\n",
    "import os\n",
    "\n",
    "\n",
    "# Load environment variables from the .env file\n",
    "load_dotenv(override=True)\n",
    "import json\n",
    "from scripts.eval_utils import convert_to_eval_format_separate_fields\n",
    "\n",
    "# Load JSONL Files into Memory\n",
    "# train_file_path = \"data/Hydrobonds_Original_WoSysPromptInUser/train_1000.jsonl\"\n",
    "# test_file_path = \"data/Hydrobonds_Original_WoSysPromptInUser/test_100.jsonl\"\n",
    "# eval_file_path = \"data/Hydrobonds_Original_WoSysPromptInUser/eval_100.jsonl\"\n",
    "# eval_format_file_path = \"data/Hydrobonds_Original_WoSysPromptInUser/eval_format_100.jsonl\"\n",
    "train_file_path = \"data/puzzles/puzzles_train_300.jsonl\"\n",
    "test_file_path = \"data/puzzles/puzzles_valid_100.jsonl\"\n",
    "eval_file_path = \"data/puzzles/puzzles_eval_final_100.jsonl\"\n",
    "eval_format_file_path = \"data/puzzles/puzzles_eval_final_format_100.jsonl\"\n",
    "\n",
    "\n",
    "# Load training data\n",
    "with open(train_file_path, \"r\", encoding=\"utf-8\") as train_file:\n",
    "    train_data = [json.loads(line) for line in train_file]\n",
    "\n",
    "# Load test data\n",
    "with open(test_file_path, \"r\", encoding=\"utf-8\") as test_file:\n",
    "    test_data = [json.loads(line) for line in test_file]\n",
    "\n",
    "# Create Evaluation File from Training Data\n",
    "\n",
    "\n",
    "# Extract 100 records from training data\n",
    "eval_data = train_data[:100]\n",
    "\n",
    "# Save evaluation data to a new file\n",
    "with open(eval_file_path, \"w\", encoding=\"utf-8\") as eval_file:\n",
    "    for record in eval_data:\n",
    "        eval_file.write(json.dumps(record) + \"\\n\")\n",
    "\n",
    "convert_to_eval_format_separate_fields(eval_file_path, eval_format_file_path)\n",
    "\n",
    "train_df = pd.DataFrame(train_data)\n",
    "test_df = pd.DataFrame(test_data)\n",
    "eval_df = pd.DataFrame(eval_data)\n",
    "\n"
   ]
  },
  {
   "cell_type": "code",
   "execution_count": 2,
   "id": "e7c29556",
   "metadata": {},
   "outputs": [
    {
     "data": {
      "text/html": [
       "<h3>Sample Evaluation Records</h3><table border=\"1\" class=\"dataframe\">\n",
       "  <thead>\n",
       "    <tr style=\"text-align: right;\">\n",
       "      <th>Prompt</th>\n",
       "      <th>Final Answer</th>\n",
       "      <th>Solution</th>\n",
       "    </tr>\n",
       "  </thead>\n",
       "  <tbody>\n",
       "    <tr>\n",
       "      <td><pre style='white-space: pre-wrap; font-family: monospace;'>You are a helpful assistant. Your task is to solve the following logic and\\npuzzle quiz:  2. Six people are standing in a circle, each of whom is either a\\nknight - who always tells the truth, or a liar - who always lies. Each of them\\nsaid one of two phrases: \"There is a liar next to me\" or \"There is a liar\\nopposite me.\" What is the minimum number of liars among them? Provide an example\\nand prove that there cannot be fewer liars.</pre></td>\n",
       "      <td><pre style='white-space: pre-wrap; font-family: monospace;'>2</pre></td>\n",
       "      <td><pre style='white-space: pre-wrap; font-family: monospace;'>Answer: 2.  Solution. Let's number all the people standing clockwise (this way,\\npeople with numbers 1 and 4, 2 and 5, 3 and 6 will stand opposite each other).\\nZero liars is obviously impossible (then there would be only knights and no one\\ncould say any of the phrases).  If there is one liar, let's say his number is 1,\\nthen the knight with number 3 has two knight neighbors and a knight standing\\nopposite him. This means he cannot say either of these two phrases.  Example\\nwith two liars. Liars have numbers 1 and 2 and say \"There is a liar opposite\\nme,\" which is also said by knights 4 and 5. The remaining knights (3 and 6) say\\n\"There is a liar next to me.\"</pre></td>\n",
       "    </tr>\n",
       "    <tr>\n",
       "      <td><pre style='white-space: pre-wrap; font-family: monospace;'>You are a helpful assistant. Your task is to solve the following logic and\\npuzzle quiz:  2. Six natural numbers (possibly repeating) are written on the\\nfaces of a cube, such that the numbers on adjacent faces differ by more than 1.\\nWhat is the smallest possible value of the sum of these six numbers?</pre></td>\n",
       "      <td><pre style='white-space: pre-wrap; font-family: monospace;'>18</pre></td>\n",
       "      <td><pre style='white-space: pre-wrap; font-family: monospace;'>Answer: 18.  Solution: Consider three faces that share a common vertex. The\\nnumbers on them differ pairwise by 2, so the smallest possible sum would be for\\n$1+3+5=9$. The same can be said about the remaining three faces.  Thus, the sum\\ncannot be less than 18. We will show that 18 can be achieved - place the number\\n1 on the top and bottom faces of the cube, 3 on the right and left faces, and 5\\non the front and back faces.</pre></td>\n",
       "    </tr>\n",
       "    <tr>\n",
       "      <td><pre style='white-space: pre-wrap; font-family: monospace;'>You are a helpful assistant. Your task is to solve the following logic and\\npuzzle quiz:  Problem 10.1. In each cell of a $5 \\times 5$ table, a natural\\nnumber is written in invisible ink. It is known that the sum of all the numbers\\nis 200, and the sum of three numbers located inside any $1 \\times 3$ rectangle\\nis 23. What is the central number in the table?  ![](https://cdn.mathpix.com/cro\\npped/2024_05_06_a7569897979ba1659de3g-39.jpg?height=309&width=311&top_left_y=340\\n&top_left_x=575)</pre></td>\n",
       "      <td><pre style='white-space: pre-wrap; font-family: monospace;'>16</pre></td>\n",
       "      <td><pre style='white-space: pre-wrap; font-family: monospace;'>Answer: 16.  Solution. Divide the $5 \\times 5$ square without the central cell\\ninto four $2 \\times 3$ rectangles, and each of them into two $1 \\times 3$\\nrectangles.  ![](https://cdn.mathpix.com/cropped/2024_05_06_a7569897979ba1659de3\\ng-39.jpg?height=305&width=303&top_left_y=841&top_left_x=575)  We get 8\\nrectangles $1 \\times 3$, the sum of the numbers in each of which is 23. Since\\nthe sum of all the numbers is 200, we find the number in the central cell as\\n$200 - 23 \\cdot 8 = 16$.</pre></td>\n",
       "    </tr>\n",
       "  </tbody>\n",
       "</table>"
      ],
      "text/plain": [
       "<IPython.core.display.HTML object>"
      ]
     },
     "metadata": {},
     "output_type": "display_data"
    }
   ],
   "source": [
    "import pandas as pd\n",
    "import json\n",
    "import textwrap\n",
    "from IPython.display import HTML, display\n",
    "\n",
    "# Helper to wrap text and convert dict to pretty JSON\n",
    "def format_cell(content, width=80):\n",
    "    if isinstance(content, list) and len(content) > 0 and isinstance(content[0], dict):\n",
    "        content = content[0].get(\"content\", \"\")\n",
    "    elif isinstance(content, dict):\n",
    "        content = json.dumps(content, indent=2)\n",
    "    return \"<pre style='white-space: pre-wrap; font-family: monospace;'>{}</pre>\".format(\n",
    "        textwrap.fill(str(content), width=width)\n",
    "    )\n",
    "\n",
    "# Create a new DataFrame for display with formatted cells\n",
    "sample_df = eval_df.head(3).copy()\n",
    "sample_df['Prompt'] = sample_df['messages'].apply(lambda x: format_cell(x))\n",
    "sample_df['Final Answer'] = sample_df['final_answer'].apply(lambda x: format_cell(x))\n",
    "sample_df['Solution'] = sample_df['solution'].apply(lambda x: format_cell(x))\n",
    "\n",
    "# Only keep desired columns\n",
    "display_df = sample_df[['Prompt', 'Final Answer', 'Solution']]\n",
    "\n",
    "# Render as HTML table\n",
    "html_table = display_df.to_html(escape=False, index=False)\n",
    "display(HTML(f\"<h3>Sample Evaluation Records</h3>{html_table}\"))\n"
   ]
  },
  {
   "cell_type": "markdown",
   "id": "2d4ae853",
   "metadata": {},
   "source": [
    "# Evaluate Base Model - o3"
   ]
  },
  {
   "cell_type": "code",
   "execution_count": 3,
   "id": "fbf115d7",
   "metadata": {},
   "outputs": [
    {
     "name": "stdout",
     "output_type": "stream",
     "text": [
      "Using Azure API for file upload...\n",
      "File 'puzzle_eval_final_format_set_prompts.jsonl' already exists on Azure. Returning existing file ID.\n",
      "Eval file ID: file-97ccc7b1f9024ba7b061130299152160\n"
     ]
    }
   ],
   "source": [
    "from scripts.io_utils import upload_file\n",
    "\n",
    "\n",
    "\n",
    "# eval_file_id = \"file-2d7554dc2266432ea9d8a8483ead1117\"\n",
    "eval_file_id = await upload_file(file_name=\"puzzle_eval_final_format_set_prompts.jsonl\", file_path=eval_format_file_path, purpose=\"evals\")\n",
    "print(f\"Eval file ID: {eval_file_id}\")\n"
   ]
  },
  {
   "cell_type": "code",
   "execution_count": 4,
   "id": "c3571eb0",
   "metadata": {},
   "outputs": [
    {
     "name": "stdout",
     "output_type": "stream",
     "text": [
      "Evaluation created successfully with ID: eval_6823f7877bd88190bc768ca70a878596\n",
      "Evaluation created with ID: eval_6823f7877bd88190bc768ca70a878596\n"
     ]
    }
   ],
   "source": [
    "# Create a new evaluation\n",
    "\n",
    "from scripts.eval_utils import create_eval\n",
    "\n",
    "# Call the create_eval function\n",
    "eval_id = await create_eval(\"puzzle_base_eval_202-grader-4_1\", grader_model=\"gpt-4.1\", pass_threshold=4)\n",
    "\n",
    "# eval_id = \"eval_681fca42e0148190af03fecfd662e5d6\"\n",
    "\n",
    "print(f\"Evaluation created with ID: {eval_id}\")\n"
   ]
  },
  {
   "cell_type": "code",
   "execution_count": 5,
   "id": "c870d4b6",
   "metadata": {},
   "outputs": [
    {
     "name": "stdout",
     "output_type": "stream",
     "text": [
      "Create Eval Run Status for ft-o3-mini-puzzle-300: 201\n",
      "Evaluation ID: eval_6823f7877bd88190bc768ca70a878596\n"
     ]
    }
   ],
   "source": [
    "# Import the create_eval_run function from the eval_utils script\n",
    "from scripts.eval_utils import create_eval_run\n",
    "\n",
    "\n",
    "# Set your Model Deployment Names for the run\n",
    "RUN_MODEL_DEPLOYMENTS = [\n",
    "    # \"o3\",\n",
    "    # \"o4-mini\",\n",
    "    # \"o3-mini\",\n",
    "    # \"gpt-4o\",\n",
    "    # \"gpt-4o-mini\",\n",
    "    # \"gpt-4.1\",\n",
    "    # \"gpt-4.1-mini\",\n",
    "    # \"ft-o3-mini-puzzle\",\n",
    "    \"ft-o3-mini-puzzle-300\",\n",
    "    # \"o3-mini-2025-01-31-puzzles-train-10-val-10-rft\"\n",
    "\n",
    "]\n",
    "\n",
    "# eval_file_id = \"file-97ccc7b1f9024ba7b061130299152160\"\n",
    "# eval_id = \"eval_682318c1171c819093f6ad19501a4bff\"\n",
    "\n",
    "# Create Eval Runs for each deployment\n",
    "for deployment in RUN_MODEL_DEPLOYMENTS:\n",
    "    await create_eval_run(eval_id, eval_file_id, deployment)\n",
    "\n",
    "# Print the evaluation ID\n",
    "print(f\"Evaluation ID: {eval_id}\")"
   ]
  },
  {
   "cell_type": "code",
   "execution_count": 7,
   "id": "dbff6170",
   "metadata": {},
   "outputs": [
    {
     "name": "stdout",
     "output_type": "stream",
     "text": [
      "Get Evaluation Runs: eval_682319883d7481909464fadab7c017b2\n",
      "\n",
      "==================================================\n",
      "Combined Evaluation Summary\n",
      "==================================================\n",
      "                                  Run ID   Run Name   Model    Status Pass Percentage (%) Error Percentage (%)                         Evaluation ID      Evaluation Name\n",
      "evalrun_6823199a0cdc819091a6d873262f604c sc_o3-mini o3-mini completed           56.565657                  1.0 eval_682319883d7481909464fadab7c017b2 puzzle_base_eval_104\n",
      "evalrun_68231b9356788190a9477fe996614d51 sc_o4-mini o4-mini    queued            0.000000                  0.0 eval_682319883d7481909464fadab7c017b2 puzzle_base_eval_104\n",
      "==================================================\n"
     ]
    },
    {
     "data": {
      "image/png": "[encoded data removed]",
      "text/plain": [
       "<Figure size 1200x300 with 1 Axes>"
      ]
     },
     "metadata": {},
     "output_type": "display_data"
    }
   ],
   "source": [
    "# Import the display_evaluation_summary function from the eval_utils script\n",
    "from scripts.eval_utils import display_evaluation_summary, display_evaluation_details\n",
    "\n",
    "# eval_id = \"eval_68230245f9dc81908eedaf94a0c6b753\" # azure\n",
    "# eval_id = \"eval_681fe1c94514819083e59acbf99d967b\" # openai\n",
    "# Display the evaluation summary\n",
    "await display_evaluation_summary([eval_id])"
   ]
  },
  {
   "cell_type": "code",
   "execution_count": 3,
   "id": "02885d0c",
   "metadata": {},
   "outputs": [
    {
     "name": "stdout",
     "output_type": "stream",
     "text": [
      "\n",
      "==================================================\n",
      "Evaluation Details for Run ID: evalrun_6823026dd9fc819095dfa333d216839c\n",
      "==================================================\n",
      "\n",
      "Sample 1:\n",
      "--------------------------------------------------\n",
      "Reference Final Answer:  a = 1 \n",
      "Output Final Answer: N/A\n",
      "Score: 0.0\n",
      "Status: fail\n",
      "--------------------------------------------------\n",
      "\n",
      "Sample 2:\n",
      "--------------------------------------------------\n",
      "Reference Final Answer:  EDACB \n",
      "Output Final Answer: EADCB\n",
      "Score: 0.0\n",
      "Status: fail\n",
      "--------------------------------------------------\n",
      "\n",
      "Sample 3:\n",
      "--------------------------------------------------\n",
      "Reference Final Answer: 1941\n",
      "Output Final Answer: 1970\n",
      "Score: 0.0\n",
      "Status: fail\n",
      "--------------------------------------------------\n",
      "\n",
      "Sample 4:\n",
      "--------------------------------------------------\n",
      "Reference Final Answer: 3\n",
      "Output Final Answer: 5\n",
      "Score: 0.0\n",
      "Status: fail\n",
      "--------------------------------------------------\n",
      "\n",
      "Sample 5:\n",
      "--------------------------------------------------\n",
      "Reference Final Answer: 7\n",
      "Output Final Answer: a) The weather on the 10th day was sunny, and Vasya solved 1 problem that day. b) The maximum number of problems Vasya could solve on the 15th day is 7.\n",
      "Score: 0.0\n",
      "Status: fail\n",
      "--------------------------------------------------\n",
      "\n",
      "Sample 6:\n",
      "--------------------------------------------------\n",
      "Reference Final Answer: 2^{1003} - 2\n",
      "Output Final Answer: N/A\n",
      "Score: 0.0\n",
      "Status: fail\n",
      "--------------------------------------------------\n",
      "\n",
      "Sample 7:\n",
      "--------------------------------------------------\n",
      "Reference Final Answer: 1\n",
      "Output Final Answer: 2017\n",
      "Score: 0.0\n",
      "Status: fail\n",
      "--------------------------------------------------\n",
      "\n",
      "Sample 8:\n",
      "--------------------------------------------------\n",
      "Reference Final Answer: 4\n",
      "Output Final Answer: N/A\n",
      "Score: 0.0\n",
      "Status: fail\n",
      "--------------------------------------------------\n",
      "\n",
      "Sample 9:\n",
      "--------------------------------------------------\n",
      "Reference Final Answer:  x_{42} \n",
      "Output Final Answer: N/A\n",
      "Score: 0.0\n",
      "Status: fail\n",
      "--------------------------------------------------\n",
      "\n",
      "Sample 10:\n",
      "--------------------------------------------------\n",
      "Reference Final Answer: 26\n",
      "Output Final Answer: Place all 37 kg sand on one pan and both 1 kg and 2 kg weights on the other pan. Then perform the first action by adding 34 kg sand to the weights pan to balance the scales, leaving 3 kg sand on the first pan. Next, perform the second action by pouring 23 kg sand from the weights pan back to the first pan to balance the scales. This results in a pile of exactly 26 kg sand on the first pan in only two actions.\n",
      "Score: 0.0\n",
      "Status: fail\n",
      "--------------------------------------------------\n",
      "\n",
      "==================================================\n",
      "Displayed 10 records (filtered by status: fail).\n",
      "==================================================\n"
     ]
    }
   ],
   "source": [
    "from scripts.eval_utils import display_evaluation_details\n",
    "\n",
    "eval_id = \"eval_68230245f9dc81908eedaf94a0c6b753\"\n",
    "eval_run_id = \"evalrun_6823026dd9fc819095dfa333d216839c\"\n",
    "await display_evaluation_details(eval_id=eval_id, eval_run_id=eval_run_id, max_records=10, status_filter=\"fail\")"
   ]
  },
  {
   "cell_type": "code",
   "execution_count": null,
   "id": "27469104",
   "metadata": {},
   "outputs": [],
   "source": []
  },
  {
   "cell_type": "code",
   "execution_count": null,
   "id": "0e4eca25",
   "metadata": {},
   "outputs": [
    {
     "ename": "TypeError",
     "evalue": "convert_rft_to_sft() got an unexpected keyword argument 'status_filter'",
     "output_type": "error",
     "traceback": [
      "\u001b[1;31m---------------------------------------------------------------------------\u001b[0m",
      "\u001b[1;31mTypeError\u001b[0m                                 Traceback (most recent call last)",
      "Cell \u001b[1;32mIn[2], line 6\u001b[0m\n\u001b[0;32m      4\u001b[0m rft_file_path \u001b[38;5;241m=\u001b[39m \u001b[38;5;124m\"\u001b[39m\u001b[38;5;124mdata/Hydrobonds_Original_WoSysPromptInUser/train_900.jsonl\u001b[39m\u001b[38;5;124m\"\u001b[39m\n\u001b[0;32m      5\u001b[0m sft_file_path \u001b[38;5;241m=\u001b[39m \u001b[38;5;124m\"\u001b[39m\u001b[38;5;124mdata/Hydrobonds_Original_WoSysPromptInUser/train_900_sft.jsonl\u001b[39m\u001b[38;5;124m\"\u001b[39m\n\u001b[1;32m----> 6\u001b[0m \u001b[43mconvert_rft_to_sft\u001b[49m\u001b[43m(\u001b[49m\u001b[43mrft_file_path\u001b[49m\u001b[43m,\u001b[49m\u001b[43m \u001b[49m\u001b[43msft_file_path\u001b[49m\u001b[43m,\u001b[49m\u001b[43m \u001b[49m\u001b[43mstatus_filter\u001b[49m\u001b[38;5;241;43m=\u001b[39;49m\u001b[38;5;124;43m\"\u001b[39;49m\u001b[38;5;124;43mfail\u001b[39;49m\u001b[38;5;124;43m\"\u001b[39;49m\u001b[43m)\u001b[49m\n",
      "\u001b[1;31mTypeError\u001b[0m: convert_rft_to_sft() got an unexpected keyword argument 'status_filter'"
     ]
    }
   ],
   "source": [
    "from scripts.dataset_utils import convert_rft_to_sft\n",
    "\n",
    "# Convert the evaluation results to SFT format\n",
    "rft_file_path = \"data/Hydrobonds_Original_WoSysPromptInUser/train_900.jsonl\"\n",
    "sft_file_path = \"data/Hydrobonds_Original_WoSysPromptInUser/train_900_sft.jsonl\"\n",
    "convert_rft_to_sft(rft_file_path, sft_file_path)"
   ]
  },
  {
   "cell_type": "code",
   "execution_count": null,
   "id": "4ade393d",
   "metadata": {},
   "outputs": [],
   "source": []
  }
 ],
 "metadata": {
  "kernelspec": {
   "display_name": "openai",
   "language": "python",
   "name": "python3"
  },
  "language_info": {
   "codemirror_mode": {
    "name": "ipython",
    "version": 3
   },
   "file_extension": ".py",
   "mimetype": "text/x-python",
   "name": "python",
   "nbconvert_exporter": "python",
   "pygments_lexer": "ipython3",
   "version": "3.9.21"
  }
 },
 "nbformat": 4,
 "nbformat_minor": 5
}
